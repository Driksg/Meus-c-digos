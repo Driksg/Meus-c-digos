{
  "nbformat": 4,
  "nbformat_minor": 0,
  "metadata": {
    "colab": {
      "provenance": [],
      "collapsed_sections": []
    },
    "kernelspec": {
      "name": "python3",
      "display_name": "Python 3"
    },
    "language_info": {
      "name": "python"
    }
  },
  "cells": [
    {
      "cell_type": "code",
      "source": [
        "import random\n",
        "\n",
        "palavras = ['arvore', 'banana', 'gato', 'churrasqueira']\n",
        "tentativas = []\n",
        "contador = 3\n",
        "\n",
        "palavra_sorteada = random.choice(palavras)\n",
        "\n",
        "\n",
        "while True:\n",
        "\n",
        "  letra = input(\"Tente uma letra: \")\n",
        "\n",
        "  if len(letra)> 1:\n",
        "    print ('Ops! Você só pode digitar uma letra por vez.')\n",
        "    continue\n",
        "\n",
        "  tentativas.append(letra)\n",
        "  impressao = \"\"\n",
        "  \n",
        "  for i in palavra_sorteada:\n",
        "\n",
        "    if(i in tentativas):\n",
        "      impressao += i\n",
        "    else:\n",
        "      impressao += \" _\"\n",
        "  print(impressao)\n",
        "\n",
        "  if impressao == palavra_sorteada:\n",
        "    print ('Parabéns, você acertou a palavra!')\n",
        "    break\n",
        "\n",
        "  if letra not in palavra_sorteada:\n",
        "    contador -=1\n",
        "  \n",
        "  if contador <=0:\n",
        "    print ('Suas chances acabaram, você perdeu!')\n",
        "    break\n"
      ],
      "metadata": {
        "id": "3NtEZ4BNWwCC"
      },
      "execution_count": null,
      "outputs": []
    }
  ]
}